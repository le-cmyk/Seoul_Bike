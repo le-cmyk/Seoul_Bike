{
 "cells": [
  {
   "cell_type": "markdown",
   "id": "308a01bd",
   "metadata": {},
   "source": [
    "*Python for data analysis*\n",
    "# Final Project - Seoul Bike Dataset | Part.1#\n",
    "*Léo Dujourd'hui*  |  *William Gainnier*  |  *Mélanie Gambiez*"
   ]
  },
  {
   "cell_type": "code",
   "execution_count": 1,
   "id": "99ce4e2f",
   "metadata": {},
   "outputs": [],
   "source": [
    "import pandas as pd\n",
    "import numpy as np\n",
    "import seaborn as sns\n",
    "import matplotlib.pyplot as plt"
   ]
  },
  {
   "cell_type": "code",
   "execution_count": 2,
   "id": "95abc425",
   "metadata": {},
   "outputs": [],
   "source": [
    "df = pd.read_csv(\"SeoulBikeData.csv\", encoding=\"ISO_8859-1\")"
   ]
  },
  {
   "cell_type": "markdown",
   "id": "0613db7a",
   "metadata": {},
   "source": [
    "# Data Exploration #"
   ]
  },
  {
   "cell_type": "markdown",
   "id": "cbaa29e8",
   "metadata": {},
   "source": [
    "***Look at basic information***"
   ]
  },
  {
   "cell_type": "code",
   "execution_count": 3,
   "id": "43126523",
   "metadata": {},
   "outputs": [
    {
     "name": "stdout",
     "output_type": "stream",
     "text": [
      "There are 8760 rows and 14 columns\n"
     ]
    }
   ],
   "source": [
    "print(f'There are {df.shape[0]} rows and {df.shape[1]} columns')"
   ]
  },
  {
   "cell_type": "code",
   "execution_count": 4,
   "id": "3105544f",
   "metadata": {},
   "outputs": [
    {
     "data": {
      "text/html": [
       "<div>\n",
       "<style scoped>\n",
       "    .dataframe tbody tr th:only-of-type {\n",
       "        vertical-align: middle;\n",
       "    }\n",
       "\n",
       "    .dataframe tbody tr th {\n",
       "        vertical-align: top;\n",
       "    }\n",
       "\n",
       "    .dataframe thead th {\n",
       "        text-align: right;\n",
       "    }\n",
       "</style>\n",
       "<table border=\"1\" class=\"dataframe\">\n",
       "  <thead>\n",
       "    <tr style=\"text-align: right;\">\n",
       "      <th></th>\n",
       "      <th>Date</th>\n",
       "      <th>Rented Bike Count</th>\n",
       "      <th>Hour</th>\n",
       "      <th>Temperature(°C)</th>\n",
       "      <th>Humidity(%)</th>\n",
       "      <th>Wind speed (m/s)</th>\n",
       "      <th>Visibility (10m)</th>\n",
       "      <th>Dew point temperature(°C)</th>\n",
       "      <th>Solar Radiation (MJ/m2)</th>\n",
       "      <th>Rainfall(mm)</th>\n",
       "      <th>Snowfall (cm)</th>\n",
       "      <th>Seasons</th>\n",
       "      <th>Holiday</th>\n",
       "      <th>Functioning Day</th>\n",
       "    </tr>\n",
       "  </thead>\n",
       "  <tbody>\n",
       "    <tr>\n",
       "      <th>0</th>\n",
       "      <td>01/12/2017</td>\n",
       "      <td>254</td>\n",
       "      <td>0</td>\n",
       "      <td>-5.2</td>\n",
       "      <td>37</td>\n",
       "      <td>2.2</td>\n",
       "      <td>2000</td>\n",
       "      <td>-17.6</td>\n",
       "      <td>0.0</td>\n",
       "      <td>0.0</td>\n",
       "      <td>0.0</td>\n",
       "      <td>Winter</td>\n",
       "      <td>No Holiday</td>\n",
       "      <td>Yes</td>\n",
       "    </tr>\n",
       "    <tr>\n",
       "      <th>1</th>\n",
       "      <td>01/12/2017</td>\n",
       "      <td>204</td>\n",
       "      <td>1</td>\n",
       "      <td>-5.5</td>\n",
       "      <td>38</td>\n",
       "      <td>0.8</td>\n",
       "      <td>2000</td>\n",
       "      <td>-17.6</td>\n",
       "      <td>0.0</td>\n",
       "      <td>0.0</td>\n",
       "      <td>0.0</td>\n",
       "      <td>Winter</td>\n",
       "      <td>No Holiday</td>\n",
       "      <td>Yes</td>\n",
       "    </tr>\n",
       "    <tr>\n",
       "      <th>2</th>\n",
       "      <td>01/12/2017</td>\n",
       "      <td>173</td>\n",
       "      <td>2</td>\n",
       "      <td>-6.0</td>\n",
       "      <td>39</td>\n",
       "      <td>1.0</td>\n",
       "      <td>2000</td>\n",
       "      <td>-17.7</td>\n",
       "      <td>0.0</td>\n",
       "      <td>0.0</td>\n",
       "      <td>0.0</td>\n",
       "      <td>Winter</td>\n",
       "      <td>No Holiday</td>\n",
       "      <td>Yes</td>\n",
       "    </tr>\n",
       "    <tr>\n",
       "      <th>3</th>\n",
       "      <td>01/12/2017</td>\n",
       "      <td>107</td>\n",
       "      <td>3</td>\n",
       "      <td>-6.2</td>\n",
       "      <td>40</td>\n",
       "      <td>0.9</td>\n",
       "      <td>2000</td>\n",
       "      <td>-17.6</td>\n",
       "      <td>0.0</td>\n",
       "      <td>0.0</td>\n",
       "      <td>0.0</td>\n",
       "      <td>Winter</td>\n",
       "      <td>No Holiday</td>\n",
       "      <td>Yes</td>\n",
       "    </tr>\n",
       "    <tr>\n",
       "      <th>4</th>\n",
       "      <td>01/12/2017</td>\n",
       "      <td>78</td>\n",
       "      <td>4</td>\n",
       "      <td>-6.0</td>\n",
       "      <td>36</td>\n",
       "      <td>2.3</td>\n",
       "      <td>2000</td>\n",
       "      <td>-18.6</td>\n",
       "      <td>0.0</td>\n",
       "      <td>0.0</td>\n",
       "      <td>0.0</td>\n",
       "      <td>Winter</td>\n",
       "      <td>No Holiday</td>\n",
       "      <td>Yes</td>\n",
       "    </tr>\n",
       "  </tbody>\n",
       "</table>\n",
       "</div>"
      ],
      "text/plain": [
       "         Date  Rented Bike Count  Hour  Temperature(°C)  Humidity(%)  \\\n",
       "0  01/12/2017                254     0             -5.2           37   \n",
       "1  01/12/2017                204     1             -5.5           38   \n",
       "2  01/12/2017                173     2             -6.0           39   \n",
       "3  01/12/2017                107     3             -6.2           40   \n",
       "4  01/12/2017                 78     4             -6.0           36   \n",
       "\n",
       "   Wind speed (m/s)  Visibility (10m)  Dew point temperature(°C)  \\\n",
       "0               2.2              2000                      -17.6   \n",
       "1               0.8              2000                      -17.6   \n",
       "2               1.0              2000                      -17.7   \n",
       "3               0.9              2000                      -17.6   \n",
       "4               2.3              2000                      -18.6   \n",
       "\n",
       "   Solar Radiation (MJ/m2)  Rainfall(mm)  Snowfall (cm) Seasons     Holiday  \\\n",
       "0                      0.0           0.0            0.0  Winter  No Holiday   \n",
       "1                      0.0           0.0            0.0  Winter  No Holiday   \n",
       "2                      0.0           0.0            0.0  Winter  No Holiday   \n",
       "3                      0.0           0.0            0.0  Winter  No Holiday   \n",
       "4                      0.0           0.0            0.0  Winter  No Holiday   \n",
       "\n",
       "  Functioning Day  \n",
       "0             Yes  \n",
       "1             Yes  \n",
       "2             Yes  \n",
       "3             Yes  \n",
       "4             Yes  "
      ]
     },
     "execution_count": 4,
     "metadata": {},
     "output_type": "execute_result"
    }
   ],
   "source": [
    "df.head()"
   ]
  },
  {
   "cell_type": "code",
   "execution_count": 5,
   "id": "1c2e4668",
   "metadata": {
    "scrolled": true
   },
   "outputs": [
    {
     "data": {
      "text/html": [
       "<div>\n",
       "<style scoped>\n",
       "    .dataframe tbody tr th:only-of-type {\n",
       "        vertical-align: middle;\n",
       "    }\n",
       "\n",
       "    .dataframe tbody tr th {\n",
       "        vertical-align: top;\n",
       "    }\n",
       "\n",
       "    .dataframe thead th {\n",
       "        text-align: right;\n",
       "    }\n",
       "</style>\n",
       "<table border=\"1\" class=\"dataframe\">\n",
       "  <thead>\n",
       "    <tr style=\"text-align: right;\">\n",
       "      <th></th>\n",
       "      <th>Date</th>\n",
       "      <th>Rented Bike Count</th>\n",
       "      <th>Hour</th>\n",
       "      <th>Temperature(°C)</th>\n",
       "      <th>Humidity(%)</th>\n",
       "      <th>Wind speed (m/s)</th>\n",
       "      <th>Visibility (10m)</th>\n",
       "      <th>Dew point temperature(°C)</th>\n",
       "      <th>Solar Radiation (MJ/m2)</th>\n",
       "      <th>Rainfall(mm)</th>\n",
       "      <th>Snowfall (cm)</th>\n",
       "      <th>Seasons</th>\n",
       "      <th>Holiday</th>\n",
       "      <th>Functioning Day</th>\n",
       "    </tr>\n",
       "  </thead>\n",
       "  <tbody>\n",
       "    <tr>\n",
       "      <th>8755</th>\n",
       "      <td>30/11/2018</td>\n",
       "      <td>1003</td>\n",
       "      <td>19</td>\n",
       "      <td>4.2</td>\n",
       "      <td>34</td>\n",
       "      <td>2.6</td>\n",
       "      <td>1894</td>\n",
       "      <td>-10.3</td>\n",
       "      <td>0.0</td>\n",
       "      <td>0.0</td>\n",
       "      <td>0.0</td>\n",
       "      <td>Autumn</td>\n",
       "      <td>No Holiday</td>\n",
       "      <td>Yes</td>\n",
       "    </tr>\n",
       "    <tr>\n",
       "      <th>8756</th>\n",
       "      <td>30/11/2018</td>\n",
       "      <td>764</td>\n",
       "      <td>20</td>\n",
       "      <td>3.4</td>\n",
       "      <td>37</td>\n",
       "      <td>2.3</td>\n",
       "      <td>2000</td>\n",
       "      <td>-9.9</td>\n",
       "      <td>0.0</td>\n",
       "      <td>0.0</td>\n",
       "      <td>0.0</td>\n",
       "      <td>Autumn</td>\n",
       "      <td>No Holiday</td>\n",
       "      <td>Yes</td>\n",
       "    </tr>\n",
       "    <tr>\n",
       "      <th>8757</th>\n",
       "      <td>30/11/2018</td>\n",
       "      <td>694</td>\n",
       "      <td>21</td>\n",
       "      <td>2.6</td>\n",
       "      <td>39</td>\n",
       "      <td>0.3</td>\n",
       "      <td>1968</td>\n",
       "      <td>-9.9</td>\n",
       "      <td>0.0</td>\n",
       "      <td>0.0</td>\n",
       "      <td>0.0</td>\n",
       "      <td>Autumn</td>\n",
       "      <td>No Holiday</td>\n",
       "      <td>Yes</td>\n",
       "    </tr>\n",
       "    <tr>\n",
       "      <th>8758</th>\n",
       "      <td>30/11/2018</td>\n",
       "      <td>712</td>\n",
       "      <td>22</td>\n",
       "      <td>2.1</td>\n",
       "      <td>41</td>\n",
       "      <td>1.0</td>\n",
       "      <td>1859</td>\n",
       "      <td>-9.8</td>\n",
       "      <td>0.0</td>\n",
       "      <td>0.0</td>\n",
       "      <td>0.0</td>\n",
       "      <td>Autumn</td>\n",
       "      <td>No Holiday</td>\n",
       "      <td>Yes</td>\n",
       "    </tr>\n",
       "    <tr>\n",
       "      <th>8759</th>\n",
       "      <td>30/11/2018</td>\n",
       "      <td>584</td>\n",
       "      <td>23</td>\n",
       "      <td>1.9</td>\n",
       "      <td>43</td>\n",
       "      <td>1.3</td>\n",
       "      <td>1909</td>\n",
       "      <td>-9.3</td>\n",
       "      <td>0.0</td>\n",
       "      <td>0.0</td>\n",
       "      <td>0.0</td>\n",
       "      <td>Autumn</td>\n",
       "      <td>No Holiday</td>\n",
       "      <td>Yes</td>\n",
       "    </tr>\n",
       "  </tbody>\n",
       "</table>\n",
       "</div>"
      ],
      "text/plain": [
       "            Date  Rented Bike Count  Hour  Temperature(°C)  Humidity(%)  \\\n",
       "8755  30/11/2018               1003    19              4.2           34   \n",
       "8756  30/11/2018                764    20              3.4           37   \n",
       "8757  30/11/2018                694    21              2.6           39   \n",
       "8758  30/11/2018                712    22              2.1           41   \n",
       "8759  30/11/2018                584    23              1.9           43   \n",
       "\n",
       "      Wind speed (m/s)  Visibility (10m)  Dew point temperature(°C)  \\\n",
       "8755               2.6              1894                      -10.3   \n",
       "8756               2.3              2000                       -9.9   \n",
       "8757               0.3              1968                       -9.9   \n",
       "8758               1.0              1859                       -9.8   \n",
       "8759               1.3              1909                       -9.3   \n",
       "\n",
       "      Solar Radiation (MJ/m2)  Rainfall(mm)  Snowfall (cm) Seasons  \\\n",
       "8755                      0.0           0.0            0.0  Autumn   \n",
       "8756                      0.0           0.0            0.0  Autumn   \n",
       "8757                      0.0           0.0            0.0  Autumn   \n",
       "8758                      0.0           0.0            0.0  Autumn   \n",
       "8759                      0.0           0.0            0.0  Autumn   \n",
       "\n",
       "         Holiday Functioning Day  \n",
       "8755  No Holiday             Yes  \n",
       "8756  No Holiday             Yes  \n",
       "8757  No Holiday             Yes  \n",
       "8758  No Holiday             Yes  \n",
       "8759  No Holiday             Yes  "
      ]
     },
     "execution_count": 5,
     "metadata": {},
     "output_type": "execute_result"
    }
   ],
   "source": [
    "df.tail()"
   ]
  },
  {
   "cell_type": "code",
   "execution_count": 6,
   "id": "2358a70a",
   "metadata": {},
   "outputs": [
    {
     "data": {
      "text/plain": [
       "Index(['Date', 'Rented Bike Count', 'Hour', 'Temperature(°C)', 'Humidity(%)',\n",
       "       'Wind speed (m/s)', 'Visibility (10m)', 'Dew point temperature(°C)',\n",
       "       'Solar Radiation (MJ/m2)', 'Rainfall(mm)', 'Snowfall (cm)', 'Seasons',\n",
       "       'Holiday', 'Functioning Day'],\n",
       "      dtype='object')"
      ]
     },
     "execution_count": 6,
     "metadata": {},
     "output_type": "execute_result"
    }
   ],
   "source": [
    "df.columns"
   ]
  },
  {
   "cell_type": "code",
   "execution_count": 7,
   "id": "76dc11e6",
   "metadata": {
    "scrolled": true
   },
   "outputs": [
    {
     "data": {
      "text/plain": [
       "Date                          object\n",
       "Rented Bike Count              int64\n",
       "Hour                           int64\n",
       "Temperature(°C)              float64\n",
       "Humidity(%)                    int64\n",
       "Wind speed (m/s)             float64\n",
       "Visibility (10m)               int64\n",
       "Dew point temperature(°C)    float64\n",
       "Solar Radiation (MJ/m2)      float64\n",
       "Rainfall(mm)                 float64\n",
       "Snowfall (cm)                float64\n",
       "Seasons                       object\n",
       "Holiday                       object\n",
       "Functioning Day               object\n",
       "dtype: object"
      ]
     },
     "execution_count": 7,
     "metadata": {},
     "output_type": "execute_result"
    }
   ],
   "source": [
    "df.dtypes"
   ]
  },
  {
   "cell_type": "code",
   "execution_count": 8,
   "id": "395f36e1",
   "metadata": {},
   "outputs": [
    {
     "data": {
      "text/html": [
       "<div>\n",
       "<style scoped>\n",
       "    .dataframe tbody tr th:only-of-type {\n",
       "        vertical-align: middle;\n",
       "    }\n",
       "\n",
       "    .dataframe tbody tr th {\n",
       "        vertical-align: top;\n",
       "    }\n",
       "\n",
       "    .dataframe thead th {\n",
       "        text-align: right;\n",
       "    }\n",
       "</style>\n",
       "<table border=\"1\" class=\"dataframe\">\n",
       "  <thead>\n",
       "    <tr style=\"text-align: right;\">\n",
       "      <th></th>\n",
       "      <th>Rented Bike Count</th>\n",
       "      <th>Hour</th>\n",
       "      <th>Temperature(°C)</th>\n",
       "      <th>Humidity(%)</th>\n",
       "      <th>Wind speed (m/s)</th>\n",
       "      <th>Visibility (10m)</th>\n",
       "      <th>Dew point temperature(°C)</th>\n",
       "      <th>Solar Radiation (MJ/m2)</th>\n",
       "      <th>Rainfall(mm)</th>\n",
       "      <th>Snowfall (cm)</th>\n",
       "    </tr>\n",
       "  </thead>\n",
       "  <tbody>\n",
       "    <tr>\n",
       "      <th>count</th>\n",
       "      <td>8760.000000</td>\n",
       "      <td>8760.000000</td>\n",
       "      <td>8760.000000</td>\n",
       "      <td>8760.000000</td>\n",
       "      <td>8760.000000</td>\n",
       "      <td>8760.000000</td>\n",
       "      <td>8760.000000</td>\n",
       "      <td>8760.000000</td>\n",
       "      <td>8760.000000</td>\n",
       "      <td>8760.000000</td>\n",
       "    </tr>\n",
       "    <tr>\n",
       "      <th>mean</th>\n",
       "      <td>704.602055</td>\n",
       "      <td>11.500000</td>\n",
       "      <td>12.882922</td>\n",
       "      <td>58.226256</td>\n",
       "      <td>1.724909</td>\n",
       "      <td>1436.825799</td>\n",
       "      <td>4.073813</td>\n",
       "      <td>0.569111</td>\n",
       "      <td>0.148687</td>\n",
       "      <td>0.075068</td>\n",
       "    </tr>\n",
       "    <tr>\n",
       "      <th>std</th>\n",
       "      <td>644.997468</td>\n",
       "      <td>6.922582</td>\n",
       "      <td>11.944825</td>\n",
       "      <td>20.362413</td>\n",
       "      <td>1.036300</td>\n",
       "      <td>608.298712</td>\n",
       "      <td>13.060369</td>\n",
       "      <td>0.868746</td>\n",
       "      <td>1.128193</td>\n",
       "      <td>0.436746</td>\n",
       "    </tr>\n",
       "    <tr>\n",
       "      <th>min</th>\n",
       "      <td>0.000000</td>\n",
       "      <td>0.000000</td>\n",
       "      <td>-17.800000</td>\n",
       "      <td>0.000000</td>\n",
       "      <td>0.000000</td>\n",
       "      <td>27.000000</td>\n",
       "      <td>-30.600000</td>\n",
       "      <td>0.000000</td>\n",
       "      <td>0.000000</td>\n",
       "      <td>0.000000</td>\n",
       "    </tr>\n",
       "    <tr>\n",
       "      <th>25%</th>\n",
       "      <td>191.000000</td>\n",
       "      <td>5.750000</td>\n",
       "      <td>3.500000</td>\n",
       "      <td>42.000000</td>\n",
       "      <td>0.900000</td>\n",
       "      <td>940.000000</td>\n",
       "      <td>-4.700000</td>\n",
       "      <td>0.000000</td>\n",
       "      <td>0.000000</td>\n",
       "      <td>0.000000</td>\n",
       "    </tr>\n",
       "    <tr>\n",
       "      <th>50%</th>\n",
       "      <td>504.500000</td>\n",
       "      <td>11.500000</td>\n",
       "      <td>13.700000</td>\n",
       "      <td>57.000000</td>\n",
       "      <td>1.500000</td>\n",
       "      <td>1698.000000</td>\n",
       "      <td>5.100000</td>\n",
       "      <td>0.010000</td>\n",
       "      <td>0.000000</td>\n",
       "      <td>0.000000</td>\n",
       "    </tr>\n",
       "    <tr>\n",
       "      <th>75%</th>\n",
       "      <td>1065.250000</td>\n",
       "      <td>17.250000</td>\n",
       "      <td>22.500000</td>\n",
       "      <td>74.000000</td>\n",
       "      <td>2.300000</td>\n",
       "      <td>2000.000000</td>\n",
       "      <td>14.800000</td>\n",
       "      <td>0.930000</td>\n",
       "      <td>0.000000</td>\n",
       "      <td>0.000000</td>\n",
       "    </tr>\n",
       "    <tr>\n",
       "      <th>max</th>\n",
       "      <td>3556.000000</td>\n",
       "      <td>23.000000</td>\n",
       "      <td>39.400000</td>\n",
       "      <td>98.000000</td>\n",
       "      <td>7.400000</td>\n",
       "      <td>2000.000000</td>\n",
       "      <td>27.200000</td>\n",
       "      <td>3.520000</td>\n",
       "      <td>35.000000</td>\n",
       "      <td>8.800000</td>\n",
       "    </tr>\n",
       "  </tbody>\n",
       "</table>\n",
       "</div>"
      ],
      "text/plain": [
       "       Rented Bike Count         Hour  Temperature(°C)  Humidity(%)  \\\n",
       "count        8760.000000  8760.000000      8760.000000  8760.000000   \n",
       "mean          704.602055    11.500000        12.882922    58.226256   \n",
       "std           644.997468     6.922582        11.944825    20.362413   \n",
       "min             0.000000     0.000000       -17.800000     0.000000   \n",
       "25%           191.000000     5.750000         3.500000    42.000000   \n",
       "50%           504.500000    11.500000        13.700000    57.000000   \n",
       "75%          1065.250000    17.250000        22.500000    74.000000   \n",
       "max          3556.000000    23.000000        39.400000    98.000000   \n",
       "\n",
       "       Wind speed (m/s)  Visibility (10m)  Dew point temperature(°C)  \\\n",
       "count       8760.000000       8760.000000                8760.000000   \n",
       "mean           1.724909       1436.825799                   4.073813   \n",
       "std            1.036300        608.298712                  13.060369   \n",
       "min            0.000000         27.000000                 -30.600000   \n",
       "25%            0.900000        940.000000                  -4.700000   \n",
       "50%            1.500000       1698.000000                   5.100000   \n",
       "75%            2.300000       2000.000000                  14.800000   \n",
       "max            7.400000       2000.000000                  27.200000   \n",
       "\n",
       "       Solar Radiation (MJ/m2)  Rainfall(mm)  Snowfall (cm)  \n",
       "count              8760.000000   8760.000000    8760.000000  \n",
       "mean                  0.569111      0.148687       0.075068  \n",
       "std                   0.868746      1.128193       0.436746  \n",
       "min                   0.000000      0.000000       0.000000  \n",
       "25%                   0.000000      0.000000       0.000000  \n",
       "50%                   0.010000      0.000000       0.000000  \n",
       "75%                   0.930000      0.000000       0.000000  \n",
       "max                   3.520000     35.000000       8.800000  "
      ]
     },
     "execution_count": 8,
     "metadata": {},
     "output_type": "execute_result"
    }
   ],
   "source": [
    "df.describe()"
   ]
  },
  {
   "cell_type": "markdown",
   "id": "21c82438",
   "metadata": {},
   "source": [
    "***Look at non-numeric data***"
   ]
  },
  {
   "cell_type": "code",
   "execution_count": 9,
   "id": "c8ea3196",
   "metadata": {},
   "outputs": [
    {
     "data": {
      "text/plain": [
       "array(['01/12/2017', '02/12/2017', '03/12/2017', '04/12/2017',\n",
       "       '05/12/2017', '06/12/2017', '07/12/2017', '08/12/2017',\n",
       "       '09/12/2017', '10/12/2017', '11/12/2017', '12/12/2017',\n",
       "       '13/12/2017', '14/12/2017', '15/12/2017', '16/12/2017',\n",
       "       '17/12/2017', '18/12/2017', '19/12/2017', '20/12/2017',\n",
       "       '21/12/2017', '22/12/2017', '23/12/2017', '24/12/2017',\n",
       "       '25/12/2017', '26/12/2017', '27/12/2017', '28/12/2017',\n",
       "       '29/12/2017', '30/12/2017', '31/12/2017', '01/01/2018',\n",
       "       '02/01/2018', '03/01/2018', '04/01/2018', '05/01/2018',\n",
       "       '06/01/2018', '07/01/2018', '08/01/2018', '09/01/2018',\n",
       "       '10/01/2018', '11/01/2018', '12/01/2018', '13/01/2018',\n",
       "       '14/01/2018', '15/01/2018', '16/01/2018', '17/01/2018',\n",
       "       '18/01/2018', '19/01/2018', '20/01/2018', '21/01/2018',\n",
       "       '22/01/2018', '23/01/2018', '24/01/2018', '25/01/2018',\n",
       "       '26/01/2018', '27/01/2018', '28/01/2018', '29/01/2018',\n",
       "       '30/01/2018', '31/01/2018', '01/02/2018', '02/02/2018',\n",
       "       '03/02/2018', '04/02/2018', '05/02/2018', '06/02/2018',\n",
       "       '07/02/2018', '08/02/2018', '09/02/2018', '10/02/2018',\n",
       "       '11/02/2018', '12/02/2018', '13/02/2018', '14/02/2018',\n",
       "       '15/02/2018', '16/02/2018', '17/02/2018', '18/02/2018',\n",
       "       '19/02/2018', '20/02/2018', '21/02/2018', '22/02/2018',\n",
       "       '23/02/2018', '24/02/2018', '25/02/2018', '26/02/2018',\n",
       "       '27/02/2018', '28/02/2018', '01/03/2018', '02/03/2018',\n",
       "       '03/03/2018', '04/03/2018', '05/03/2018', '06/03/2018',\n",
       "       '07/03/2018', '08/03/2018', '09/03/2018', '10/03/2018',\n",
       "       '11/03/2018', '12/03/2018', '13/03/2018', '14/03/2018',\n",
       "       '15/03/2018', '16/03/2018', '17/03/2018', '18/03/2018',\n",
       "       '19/03/2018', '20/03/2018', '21/03/2018', '22/03/2018',\n",
       "       '23/03/2018', '24/03/2018', '25/03/2018', '26/03/2018',\n",
       "       '27/03/2018', '28/03/2018', '29/03/2018', '30/03/2018',\n",
       "       '31/03/2018', '01/04/2018', '02/04/2018', '03/04/2018',\n",
       "       '04/04/2018', '05/04/2018', '06/04/2018', '07/04/2018',\n",
       "       '08/04/2018', '09/04/2018', '10/04/2018', '11/04/2018',\n",
       "       '12/04/2018', '13/04/2018', '14/04/2018', '15/04/2018',\n",
       "       '16/04/2018', '17/04/2018', '18/04/2018', '19/04/2018',\n",
       "       '20/04/2018', '21/04/2018', '22/04/2018', '23/04/2018',\n",
       "       '24/04/2018', '25/04/2018', '26/04/2018', '27/04/2018',\n",
       "       '28/04/2018', '29/04/2018', '30/04/2018', '01/05/2018',\n",
       "       '02/05/2018', '03/05/2018', '04/05/2018', '05/05/2018',\n",
       "       '06/05/2018', '07/05/2018', '08/05/2018', '09/05/2018',\n",
       "       '10/05/2018', '11/05/2018', '12/05/2018', '13/05/2018',\n",
       "       '14/05/2018', '15/05/2018', '16/05/2018', '17/05/2018',\n",
       "       '18/05/2018', '19/05/2018', '20/05/2018', '21/05/2018',\n",
       "       '22/05/2018', '23/05/2018', '24/05/2018', '25/05/2018',\n",
       "       '26/05/2018', '27/05/2018', '28/05/2018', '29/05/2018',\n",
       "       '30/05/2018', '31/05/2018', '01/06/2018', '02/06/2018',\n",
       "       '03/06/2018', '04/06/2018', '05/06/2018', '06/06/2018',\n",
       "       '07/06/2018', '08/06/2018', '09/06/2018', '10/06/2018',\n",
       "       '11/06/2018', '12/06/2018', '13/06/2018', '14/06/2018',\n",
       "       '15/06/2018', '16/06/2018', '17/06/2018', '18/06/2018',\n",
       "       '19/06/2018', '20/06/2018', '21/06/2018', '22/06/2018',\n",
       "       '23/06/2018', '24/06/2018', '25/06/2018', '26/06/2018',\n",
       "       '27/06/2018', '28/06/2018', '29/06/2018', '30/06/2018',\n",
       "       '01/07/2018', '02/07/2018', '03/07/2018', '04/07/2018',\n",
       "       '05/07/2018', '06/07/2018', '07/07/2018', '08/07/2018',\n",
       "       '09/07/2018', '10/07/2018', '11/07/2018', '12/07/2018',\n",
       "       '13/07/2018', '14/07/2018', '15/07/2018', '16/07/2018',\n",
       "       '17/07/2018', '18/07/2018', '19/07/2018', '20/07/2018',\n",
       "       '21/07/2018', '22/07/2018', '23/07/2018', '24/07/2018',\n",
       "       '25/07/2018', '26/07/2018', '27/07/2018', '28/07/2018',\n",
       "       '29/07/2018', '30/07/2018', '31/07/2018', '01/08/2018',\n",
       "       '02/08/2018', '03/08/2018', '04/08/2018', '05/08/2018',\n",
       "       '06/08/2018', '07/08/2018', '08/08/2018', '09/08/2018',\n",
       "       '10/08/2018', '11/08/2018', '12/08/2018', '13/08/2018',\n",
       "       '14/08/2018', '15/08/2018', '16/08/2018', '17/08/2018',\n",
       "       '18/08/2018', '19/08/2018', '20/08/2018', '21/08/2018',\n",
       "       '22/08/2018', '23/08/2018', '24/08/2018', '25/08/2018',\n",
       "       '26/08/2018', '27/08/2018', '28/08/2018', '29/08/2018',\n",
       "       '30/08/2018', '31/08/2018', '01/09/2018', '02/09/2018',\n",
       "       '03/09/2018', '04/09/2018', '05/09/2018', '06/09/2018',\n",
       "       '07/09/2018', '08/09/2018', '09/09/2018', '10/09/2018',\n",
       "       '11/09/2018', '12/09/2018', '13/09/2018', '14/09/2018',\n",
       "       '15/09/2018', '16/09/2018', '17/09/2018', '18/09/2018',\n",
       "       '19/09/2018', '20/09/2018', '21/09/2018', '22/09/2018',\n",
       "       '23/09/2018', '24/09/2018', '25/09/2018', '26/09/2018',\n",
       "       '27/09/2018', '28/09/2018', '29/09/2018', '30/09/2018',\n",
       "       '01/10/2018', '02/10/2018', '03/10/2018', '04/10/2018',\n",
       "       '05/10/2018', '06/10/2018', '07/10/2018', '08/10/2018',\n",
       "       '09/10/2018', '10/10/2018', '11/10/2018', '12/10/2018',\n",
       "       '13/10/2018', '14/10/2018', '15/10/2018', '16/10/2018',\n",
       "       '17/10/2018', '18/10/2018', '19/10/2018', '20/10/2018',\n",
       "       '21/10/2018', '22/10/2018', '23/10/2018', '24/10/2018',\n",
       "       '25/10/2018', '26/10/2018', '27/10/2018', '28/10/2018',\n",
       "       '29/10/2018', '30/10/2018', '31/10/2018', '01/11/2018',\n",
       "       '02/11/2018', '03/11/2018', '04/11/2018', '05/11/2018',\n",
       "       '06/11/2018', '07/11/2018', '08/11/2018', '09/11/2018',\n",
       "       '10/11/2018', '11/11/2018', '12/11/2018', '13/11/2018',\n",
       "       '14/11/2018', '15/11/2018', '16/11/2018', '17/11/2018',\n",
       "       '18/11/2018', '19/11/2018', '20/11/2018', '21/11/2018',\n",
       "       '22/11/2018', '23/11/2018', '24/11/2018', '25/11/2018',\n",
       "       '26/11/2018', '27/11/2018', '28/11/2018', '29/11/2018',\n",
       "       '30/11/2018'], dtype=object)"
      ]
     },
     "execution_count": 9,
     "metadata": {},
     "output_type": "execute_result"
    }
   ],
   "source": [
    "df['Date'].unique()"
   ]
  },
  {
   "cell_type": "code",
   "execution_count": 10,
   "id": "f0ba44f8",
   "metadata": {},
   "outputs": [
    {
     "data": {
      "text/plain": [
       "array(['Winter', 'Spring', 'Summer', 'Autumn'], dtype=object)"
      ]
     },
     "execution_count": 10,
     "metadata": {},
     "output_type": "execute_result"
    }
   ],
   "source": [
    "df['Seasons'].unique()"
   ]
  },
  {
   "cell_type": "code",
   "execution_count": 11,
   "id": "408307b1",
   "metadata": {},
   "outputs": [
    {
     "data": {
      "text/plain": [
       "array(['No Holiday', 'Holiday'], dtype=object)"
      ]
     },
     "execution_count": 11,
     "metadata": {},
     "output_type": "execute_result"
    }
   ],
   "source": [
    "df['Holiday'].unique()"
   ]
  },
  {
   "cell_type": "code",
   "execution_count": 12,
   "id": "f07e0225",
   "metadata": {},
   "outputs": [
    {
     "data": {
      "text/plain": [
       "array(['Yes', 'No'], dtype=object)"
      ]
     },
     "execution_count": 12,
     "metadata": {},
     "output_type": "execute_result"
    }
   ],
   "source": [
    "df['Functioning Day'].unique()"
   ]
  },
  {
   "cell_type": "markdown",
   "id": "4ffa9901",
   "metadata": {},
   "source": [
    "# Data Cleaning | Data Preparation #"
   ]
  },
  {
   "cell_type": "markdown",
   "id": "2c364027",
   "metadata": {},
   "source": [
    "### **Null values ? Duplicated values ?** ###"
   ]
  },
  {
   "cell_type": "code",
   "execution_count": 13,
   "id": "57554754",
   "metadata": {},
   "outputs": [
    {
     "data": {
      "text/plain": [
       "False"
      ]
     },
     "execution_count": 13,
     "metadata": {},
     "output_type": "execute_result"
    }
   ],
   "source": [
    "df.isnull().sum().any()"
   ]
  },
  {
   "cell_type": "code",
   "execution_count": 14,
   "id": "d9c4e543",
   "metadata": {
    "scrolled": true
   },
   "outputs": [
    {
     "data": {
      "text/plain": [
       "False"
      ]
     },
     "execution_count": 14,
     "metadata": {},
     "output_type": "execute_result"
    }
   ],
   "source": [
    "df.duplicated().sum().any()"
   ]
  },
  {
   "cell_type": "markdown",
   "id": "bff1312e",
   "metadata": {},
   "source": [
    "*The dataset seems to be clean of any missing, null or duplicated values.*"
   ]
  },
  {
   "cell_type": "markdown",
   "id": "ed0da089",
   "metadata": {},
   "source": [
    "### **Values too far from the others ?** ###"
   ]
  },
  {
   "cell_type": "code",
   "execution_count": 15,
   "id": "c624dfa7",
   "metadata": {},
   "outputs": [
    {
     "data": {
      "image/png": "[encoded data removed]",
      "text/plain": [
       "<Figure size 432x288 with 1 Axes>"
      ]
     },
     "metadata": {},
     "output_type": "display_data"
    }
   ],
   "source": [
    "sns.set()\n",
    "sns.boxplot(data = df, x = df[\"Rented Bike Count\"], color = 'c');"
   ]
  },
  {
   "cell_type": "code",
   "execution_count": 16,
   "id": "78e777da",
   "metadata": {},
   "outputs": [
    {
     "data": {
      "text/plain": [
       "<AxesSubplot:xlabel='Rented Bike Count'>"
      ]
     },
     "execution_count": 16,
     "metadata": {},
     "output_type": "execute_result"
    },
    {
     "data": {
      "image/png": "[encoded data removed]",
      "text/plain": [
       "<Figure size 432x288 with 1 Axes>"
      ]
     },
     "metadata": {},
     "output_type": "display_data"
    }
   ],
   "source": [
    "quant96  = df[\"Rented Bike Count\"].quantile(0.96)\n",
    "df = df[(df[\"Rented Bike Count\"] < quant96)]\n",
    "\n",
    "# Check the change\n",
    "sns.set()\n",
    "sns.boxplot(data = df, x = df[\"Rented Bike Count\"], color = 'c')"
   ]
  },
  {
   "cell_type": "markdown",
   "id": "62b82405",
   "metadata": {},
   "source": [
    "### **Columns changes** ###"
   ]
  },
  {
   "cell_type": "markdown",
   "id": "8c2e337b",
   "metadata": {},
   "source": [
    "*Creation of a column with Date in Date Format*"
   ]
  },
  {
   "cell_type": "code",
   "execution_count": 17,
   "id": "eead7fcb",
   "metadata": {
    "scrolled": true
   },
   "outputs": [],
   "source": [
    "df['Date_Format'] = pd.to_datetime(df.Date, format = \"%d/%m/%Y\")"
   ]
  },
  {
   "cell_type": "markdown",
   "id": "04c5c5c9",
   "metadata": {},
   "source": [
    "*Creation of a column with Years and Months*"
   ]
  },
  {
   "cell_type": "code",
   "execution_count": 18,
   "id": "7f348cf7",
   "metadata": {},
   "outputs": [],
   "source": [
    "df[\"Year\"] = df[\"Date_Format\"].dt.year\n",
    "df['Months'] = df['Date_Format'].dt.month "
   ]
  },
  {
   "cell_type": "markdown",
   "id": "0204328d",
   "metadata": {},
   "source": [
    "*Creation of a column with Day : {0 : Monday, 1 : Tuesday, 2 : Wednesday, 3 : Thursday, 4 : Friday, 5 : Saturday, 6 : Sunday}*"
   ]
  },
  {
   "cell_type": "code",
   "execution_count": 19,
   "id": "a10754af",
   "metadata": {},
   "outputs": [
    {
     "data": {
      "text/plain": [
       "array([4, 5, 6, 0, 1, 2, 3], dtype=int64)"
      ]
     },
     "execution_count": 19,
     "metadata": {},
     "output_type": "execute_result"
    }
   ],
   "source": [
    "df['Day'] = [date.weekday() for date in df['Date_Format']]\n",
    "df['Day'].unique()"
   ]
  },
  {
   "cell_type": "markdown",
   "id": "cb981d33",
   "metadata": {},
   "source": [
    "**Because analysis is much easier with numerical values, let's change the following columns (Holiday, Functioning Day and Seasons)**"
   ]
  },
  {
   "cell_type": "markdown",
   "id": "4b7dc38e",
   "metadata": {},
   "source": [
    "*Replacing values Holidays / No holidays by 1 and 0 respectively*"
   ]
  },
  {
   "cell_type": "code",
   "execution_count": 20,
   "id": "1d431597",
   "metadata": {},
   "outputs": [],
   "source": [
    "df['Holiday'] = df['Holiday'].replace({'No Holiday': 0, 'Holiday':1})"
   ]
  },
  {
   "cell_type": "markdown",
   "id": "69cb4acf",
   "metadata": {},
   "source": [
    "*Replacing values of Functioning Day by 0 and 1*"
   ]
  },
  {
   "cell_type": "code",
   "execution_count": 21,
   "id": "7c440b76",
   "metadata": {
    "scrolled": true
   },
   "outputs": [],
   "source": [
    "df['Functioning Day'] = df['Functioning Day'].replace({'No': 0, 'Yes':1})"
   ]
  },
  {
   "cell_type": "markdown",
   "id": "56dfb4dd",
   "metadata": {},
   "source": [
    "*Replacing values of the Seasons by 0 to 3*"
   ]
  },
  {
   "cell_type": "code",
   "execution_count": 22,
   "id": "8ac90350",
   "metadata": {},
   "outputs": [],
   "source": [
    "df['Seasons'] = df['Seasons'].replace({'Winter': 0, 'Spring':1, 'Summer':2, 'Autumn':3})"
   ]
  },
  {
   "cell_type": "markdown",
   "id": "6bea5397",
   "metadata": {},
   "source": [
    "### **Delete columns which became useless** ###"
   ]
  },
  {
   "cell_type": "code",
   "execution_count": 23,
   "id": "79cedc8a",
   "metadata": {},
   "outputs": [],
   "source": [
    "del df['Date_Format']\n",
    "del df['Date']"
   ]
  },
  {
   "cell_type": "code",
   "execution_count": 24,
   "id": "4ec6476c",
   "metadata": {},
   "outputs": [
    {
     "data": {
      "text/plain": [
       "Rented Bike Count              int64\n",
       "Hour                           int64\n",
       "Temperature(°C)              float64\n",
       "Humidity(%)                    int64\n",
       "Wind speed (m/s)             float64\n",
       "Visibility (10m)               int64\n",
       "Dew point temperature(°C)    float64\n",
       "Solar Radiation (MJ/m2)      float64\n",
       "Rainfall(mm)                 float64\n",
       "Snowfall (cm)                float64\n",
       "Seasons                        int64\n",
       "Holiday                        int64\n",
       "Functioning Day                int64\n",
       "Year                           int64\n",
       "Months                         int64\n",
       "Day                            int64\n",
       "dtype: object"
      ]
     },
     "execution_count": 24,
     "metadata": {},
     "output_type": "execute_result"
    }
   ],
   "source": [
    "df.dtypes"
   ]
  },
  {
   "cell_type": "code",
   "execution_count": 25,
   "id": "42228551",
   "metadata": {
    "scrolled": true
   },
   "outputs": [
    {
     "data": {
      "text/html": [
       "<div>\n",
       "<style scoped>\n",
       "    .dataframe tbody tr th:only-of-type {\n",
       "        vertical-align: middle;\n",
       "    }\n",
       "\n",
       "    .dataframe tbody tr th {\n",
       "        vertical-align: top;\n",
       "    }\n",
       "\n",
       "    .dataframe thead th {\n",
       "        text-align: right;\n",
       "    }\n",
       "</style>\n",
       "<table border=\"1\" class=\"dataframe\">\n",
       "  <thead>\n",
       "    <tr style=\"text-align: right;\">\n",
       "      <th></th>\n",
       "      <th>Rented Bike Count</th>\n",
       "      <th>Hour</th>\n",
       "      <th>Temperature(°C)</th>\n",
       "      <th>Humidity(%)</th>\n",
       "      <th>Wind speed (m/s)</th>\n",
       "      <th>Visibility (10m)</th>\n",
       "      <th>Dew point temperature(°C)</th>\n",
       "      <th>Solar Radiation (MJ/m2)</th>\n",
       "      <th>Rainfall(mm)</th>\n",
       "      <th>Snowfall (cm)</th>\n",
       "      <th>Seasons</th>\n",
       "      <th>Holiday</th>\n",
       "      <th>Functioning Day</th>\n",
       "      <th>Year</th>\n",
       "      <th>Months</th>\n",
       "      <th>Day</th>\n",
       "    </tr>\n",
       "  </thead>\n",
       "  <tbody>\n",
       "    <tr>\n",
       "      <th>0</th>\n",
       "      <td>254</td>\n",
       "      <td>0</td>\n",
       "      <td>-5.2</td>\n",
       "      <td>37</td>\n",
       "      <td>2.2</td>\n",
       "      <td>2000</td>\n",
       "      <td>-17.6</td>\n",
       "      <td>0.0</td>\n",
       "      <td>0.0</td>\n",
       "      <td>0.0</td>\n",
       "      <td>0</td>\n",
       "      <td>0</td>\n",
       "      <td>1</td>\n",
       "      <td>2017</td>\n",
       "      <td>12</td>\n",
       "      <td>4</td>\n",
       "    </tr>\n",
       "    <tr>\n",
       "      <th>1</th>\n",
       "      <td>204</td>\n",
       "      <td>1</td>\n",
       "      <td>-5.5</td>\n",
       "      <td>38</td>\n",
       "      <td>0.8</td>\n",
       "      <td>2000</td>\n",
       "      <td>-17.6</td>\n",
       "      <td>0.0</td>\n",
       "      <td>0.0</td>\n",
       "      <td>0.0</td>\n",
       "      <td>0</td>\n",
       "      <td>0</td>\n",
       "      <td>1</td>\n",
       "      <td>2017</td>\n",
       "      <td>12</td>\n",
       "      <td>4</td>\n",
       "    </tr>\n",
       "    <tr>\n",
       "      <th>2</th>\n",
       "      <td>173</td>\n",
       "      <td>2</td>\n",
       "      <td>-6.0</td>\n",
       "      <td>39</td>\n",
       "      <td>1.0</td>\n",
       "      <td>2000</td>\n",
       "      <td>-17.7</td>\n",
       "      <td>0.0</td>\n",
       "      <td>0.0</td>\n",
       "      <td>0.0</td>\n",
       "      <td>0</td>\n",
       "      <td>0</td>\n",
       "      <td>1</td>\n",
       "      <td>2017</td>\n",
       "      <td>12</td>\n",
       "      <td>4</td>\n",
       "    </tr>\n",
       "    <tr>\n",
       "      <th>3</th>\n",
       "      <td>107</td>\n",
       "      <td>3</td>\n",
       "      <td>-6.2</td>\n",
       "      <td>40</td>\n",
       "      <td>0.9</td>\n",
       "      <td>2000</td>\n",
       "      <td>-17.6</td>\n",
       "      <td>0.0</td>\n",
       "      <td>0.0</td>\n",
       "      <td>0.0</td>\n",
       "      <td>0</td>\n",
       "      <td>0</td>\n",
       "      <td>1</td>\n",
       "      <td>2017</td>\n",
       "      <td>12</td>\n",
       "      <td>4</td>\n",
       "    </tr>\n",
       "    <tr>\n",
       "      <th>4</th>\n",
       "      <td>78</td>\n",
       "      <td>4</td>\n",
       "      <td>-6.0</td>\n",
       "      <td>36</td>\n",
       "      <td>2.3</td>\n",
       "      <td>2000</td>\n",
       "      <td>-18.6</td>\n",
       "      <td>0.0</td>\n",
       "      <td>0.0</td>\n",
       "      <td>0.0</td>\n",
       "      <td>0</td>\n",
       "      <td>0</td>\n",
       "      <td>1</td>\n",
       "      <td>2017</td>\n",
       "      <td>12</td>\n",
       "      <td>4</td>\n",
       "    </tr>\n",
       "  </tbody>\n",
       "</table>\n",
       "</div>"
      ],
      "text/plain": [
       "   Rented Bike Count  Hour  Temperature(°C)  Humidity(%)  Wind speed (m/s)  \\\n",
       "0                254     0             -5.2           37               2.2   \n",
       "1                204     1             -5.5           38               0.8   \n",
       "2                173     2             -6.0           39               1.0   \n",
       "3                107     3             -6.2           40               0.9   \n",
       "4                 78     4             -6.0           36               2.3   \n",
       "\n",
       "   Visibility (10m)  Dew point temperature(°C)  Solar Radiation (MJ/m2)  \\\n",
       "0              2000                      -17.6                      0.0   \n",
       "1              2000                      -17.6                      0.0   \n",
       "2              2000                      -17.7                      0.0   \n",
       "3              2000                      -17.6                      0.0   \n",
       "4              2000                      -18.6                      0.0   \n",
       "\n",
       "   Rainfall(mm)  Snowfall (cm)  Seasons  Holiday  Functioning Day  Year  \\\n",
       "0           0.0            0.0        0        0                1  2017   \n",
       "1           0.0            0.0        0        0                1  2017   \n",
       "2           0.0            0.0        0        0                1  2017   \n",
       "3           0.0            0.0        0        0                1  2017   \n",
       "4           0.0            0.0        0        0                1  2017   \n",
       "\n",
       "   Months  Day  \n",
       "0      12    4  \n",
       "1      12    4  \n",
       "2      12    4  \n",
       "3      12    4  \n",
       "4      12    4  "
      ]
     },
     "execution_count": 25,
     "metadata": {},
     "output_type": "execute_result"
    }
   ],
   "source": [
    "df.head()"
   ]
  },
  {
   "cell_type": "code",
   "execution_count": 26,
   "id": "65391a30",
   "metadata": {
    "scrolled": true
   },
   "outputs": [
    {
     "data": {
      "text/html": [
       "<div>\n",
       "<style scoped>\n",
       "    .dataframe tbody tr th:only-of-type {\n",
       "        vertical-align: middle;\n",
       "    }\n",
       "\n",
       "    .dataframe tbody tr th {\n",
       "        vertical-align: top;\n",
       "    }\n",
       "\n",
       "    .dataframe thead th {\n",
       "        text-align: right;\n",
       "    }\n",
       "</style>\n",
       "<table border=\"1\" class=\"dataframe\">\n",
       "  <thead>\n",
       "    <tr style=\"text-align: right;\">\n",
       "      <th></th>\n",
       "      <th>Rented Bike Count</th>\n",
       "      <th>Hour</th>\n",
       "      <th>Temperature(°C)</th>\n",
       "      <th>Humidity(%)</th>\n",
       "      <th>Wind speed (m/s)</th>\n",
       "      <th>Visibility (10m)</th>\n",
       "      <th>Dew point temperature(°C)</th>\n",
       "      <th>Solar Radiation (MJ/m2)</th>\n",
       "      <th>Rainfall(mm)</th>\n",
       "      <th>Snowfall (cm)</th>\n",
       "      <th>Seasons</th>\n",
       "      <th>Holiday</th>\n",
       "      <th>Functioning Day</th>\n",
       "      <th>Year</th>\n",
       "      <th>Months</th>\n",
       "      <th>Day</th>\n",
       "    </tr>\n",
       "  </thead>\n",
       "  <tbody>\n",
       "    <tr>\n",
       "      <th>8755</th>\n",
       "      <td>1003</td>\n",
       "      <td>19</td>\n",
       "      <td>4.2</td>\n",
       "      <td>34</td>\n",
       "      <td>2.6</td>\n",
       "      <td>1894</td>\n",
       "      <td>-10.3</td>\n",
       "      <td>0.0</td>\n",
       "      <td>0.0</td>\n",
       "      <td>0.0</td>\n",
       "      <td>3</td>\n",
       "      <td>0</td>\n",
       "      <td>1</td>\n",
       "      <td>2018</td>\n",
       "      <td>11</td>\n",
       "      <td>4</td>\n",
       "    </tr>\n",
       "    <tr>\n",
       "      <th>8756</th>\n",
       "      <td>764</td>\n",
       "      <td>20</td>\n",
       "      <td>3.4</td>\n",
       "      <td>37</td>\n",
       "      <td>2.3</td>\n",
       "      <td>2000</td>\n",
       "      <td>-9.9</td>\n",
       "      <td>0.0</td>\n",
       "      <td>0.0</td>\n",
       "      <td>0.0</td>\n",
       "      <td>3</td>\n",
       "      <td>0</td>\n",
       "      <td>1</td>\n",
       "      <td>2018</td>\n",
       "      <td>11</td>\n",
       "      <td>4</td>\n",
       "    </tr>\n",
       "    <tr>\n",
       "      <th>8757</th>\n",
       "      <td>694</td>\n",
       "      <td>21</td>\n",
       "      <td>2.6</td>\n",
       "      <td>39</td>\n",
       "      <td>0.3</td>\n",
       "      <td>1968</td>\n",
       "      <td>-9.9</td>\n",
       "      <td>0.0</td>\n",
       "      <td>0.0</td>\n",
       "      <td>0.0</td>\n",
       "      <td>3</td>\n",
       "      <td>0</td>\n",
       "      <td>1</td>\n",
       "      <td>2018</td>\n",
       "      <td>11</td>\n",
       "      <td>4</td>\n",
       "    </tr>\n",
       "    <tr>\n",
       "      <th>8758</th>\n",
       "      <td>712</td>\n",
       "      <td>22</td>\n",
       "      <td>2.1</td>\n",
       "      <td>41</td>\n",
       "      <td>1.0</td>\n",
       "      <td>1859</td>\n",
       "      <td>-9.8</td>\n",
       "      <td>0.0</td>\n",
       "      <td>0.0</td>\n",
       "      <td>0.0</td>\n",
       "      <td>3</td>\n",
       "      <td>0</td>\n",
       "      <td>1</td>\n",
       "      <td>2018</td>\n",
       "      <td>11</td>\n",
       "      <td>4</td>\n",
       "    </tr>\n",
       "    <tr>\n",
       "      <th>8759</th>\n",
       "      <td>584</td>\n",
       "      <td>23</td>\n",
       "      <td>1.9</td>\n",
       "      <td>43</td>\n",
       "      <td>1.3</td>\n",
       "      <td>1909</td>\n",
       "      <td>-9.3</td>\n",
       "      <td>0.0</td>\n",
       "      <td>0.0</td>\n",
       "      <td>0.0</td>\n",
       "      <td>3</td>\n",
       "      <td>0</td>\n",
       "      <td>1</td>\n",
       "      <td>2018</td>\n",
       "      <td>11</td>\n",
       "      <td>4</td>\n",
       "    </tr>\n",
       "  </tbody>\n",
       "</table>\n",
       "</div>"
      ],
      "text/plain": [
       "      Rented Bike Count  Hour  Temperature(°C)  Humidity(%)  Wind speed (m/s)  \\\n",
       "8755               1003    19              4.2           34               2.6   \n",
       "8756                764    20              3.4           37               2.3   \n",
       "8757                694    21              2.6           39               0.3   \n",
       "8758                712    22              2.1           41               1.0   \n",
       "8759                584    23              1.9           43               1.3   \n",
       "\n",
       "      Visibility (10m)  Dew point temperature(°C)  Solar Radiation (MJ/m2)  \\\n",
       "8755              1894                      -10.3                      0.0   \n",
       "8756              2000                       -9.9                      0.0   \n",
       "8757              1968                       -9.9                      0.0   \n",
       "8758              1859                       -9.8                      0.0   \n",
       "8759              1909                       -9.3                      0.0   \n",
       "\n",
       "      Rainfall(mm)  Snowfall (cm)  Seasons  Holiday  Functioning Day  Year  \\\n",
       "8755           0.0            0.0        3        0                1  2018   \n",
       "8756           0.0            0.0        3        0                1  2018   \n",
       "8757           0.0            0.0        3        0                1  2018   \n",
       "8758           0.0            0.0        3        0                1  2018   \n",
       "8759           0.0            0.0        3        0                1  2018   \n",
       "\n",
       "      Months  Day  \n",
       "8755      11    4  \n",
       "8756      11    4  \n",
       "8757      11    4  \n",
       "8758      11    4  \n",
       "8759      11    4  "
      ]
     },
     "execution_count": 26,
     "metadata": {},
     "output_type": "execute_result"
    }
   ],
   "source": [
    "df.tail()"
   ]
  },
  {
   "cell_type": "markdown",
   "id": "fbeb8119",
   "metadata": {},
   "source": [
    "***All changes into one function :***"
   ]
  },
  {
   "cell_type": "code",
   "execution_count": 27,
   "id": "e02b777b",
   "metadata": {},
   "outputs": [],
   "source": [
    "# def cleaning_preparation(df):\n",
    "    \n",
    "#     ## Data Cleaning\n",
    "#     quant96  = df[\"Rented Bike Count\"].quantile(0.99)\n",
    "#     df = df[(df[\"Rented Bike Count\"] < quant96)]\n",
    "    \n",
    "#     ## Data Preparation\n",
    "#     # Columns creation\n",
    "#     df['Date_Format'] = pd.to_datetime(df.Date, format = \"%d/%m/%Y\")\n",
    "#     df['Year'] = df['Date_Format'].dt.year\n",
    "#     df['Months'] = df['Date_Format'].dt.month\n",
    "#     df['Day'] = [date.weekday() for date in df['Date_Format']]\n",
    "#     # Objects to int64\n",
    "#     df['Holiday'] = df['Holiday'].replace({'No Holiday': 0, 'Holiday':1})\n",
    "#     df['Functioning Day'] = df['Functioning Day'].replace({'No': 0, 'Yes':1})\n",
    "#     df['Seasons'] = df['Seasons'].replace({'Winter': 0, 'Spring':1, 'Summer':2, 'Autumn':3})\n",
    "#     # Delete useless columns\n",
    "#     del df['Date_Format']\n",
    "#     del df['Date']\n",
    "    \n",
    "#     return df"
   ]
  }
 ],
 "metadata": {
  "kernelspec": {
   "display_name": "Python 3 (ipykernel)",
   "language": "python",
   "name": "python3"
  },
  "language_info": {
   "codemirror_mode": {
    "name": "ipython",
    "version": 3
   },
   "file_extension": ".py",
   "mimetype": "text/x-python",
   "name": "python",
   "nbconvert_exporter": "python",
   "pygments_lexer": "ipython3",
   "version": "3.9.7"
  }
 },
 "nbformat": 4,
 "nbformat_minor": 5
}
